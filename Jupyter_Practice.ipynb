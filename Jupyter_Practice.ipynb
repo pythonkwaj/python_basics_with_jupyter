{
 "cells": [
  {
   "cell_type": "markdown",
   "id": "d59692de",
   "metadata": {},
   "source": [
    "## This is a jupyter notebook.\n",
    "A notebook is a special way to run a program in a web browser.\n",
    "We will be running a programming language called [Python](https://python.org) in the [jupyter notebook](https://jupyter-notebook.readthedocs.io/en/stable/notebook.html).\n",
    "\n",
    "Python is a general purpose programming language, it is often associated with a snake but it is really named after a British Comedy Troup called [Monty Python](https://en.wikipedia.org/wiki/Monty_Python)"
   ]
  },
  {
   "cell_type": "markdown",
   "id": "f1166a93",
   "metadata": {},
   "source": [
    "## Very important safety tips ;-)\n",
    "\n",
    "* All mistakes are free, encouraged and allowed\n",
    "* There is no way to break or hurt your computer by changing things in the notebook\n",
    "* Have fun!"
   ]
  },
  {
   "cell_type": "markdown",
   "id": "13f87269",
   "metadata": {},
   "source": [
    "This space that I am typing in, is called a cell.  There are 2 basic types of cells, this one is for text.  It can be simple typing or it can include a format called Markdown.  More about that later.\n",
    "\n",
    "The other type of cell has the word:\n",
    "\n",
    "```In [ ]:```\n",
    "\n",
    "in front of it, just like the cell below, it is called a `code cell`  Code cells are were we can write our python code."
   ]
  },
  {
   "cell_type": "code",
   "execution_count": null,
   "id": "aa57a7ea",
   "metadata": {},
   "outputs": [],
   "source": []
  },
  {
   "cell_type": "markdown",
   "id": "af634542",
   "metadata": {},
   "source": [
    "To run the code in a code cell, you can use the > Run button at the top, or you can click on the code cell and then press and release the `shift` key and the `return` key at the same time.\n",
    "\n",
    "Try it in the code cell below, when you click on the cell it will show an outline.\n",
    "\n",
    "Can you guess what will happen when you run the code cell?"
   ]
  },
  {
   "cell_type": "code",
   "execution_count": null,
   "id": "86582abd",
   "metadata": {},
   "outputs": [],
   "source": [
    "# This is a simple python program to print a word in the notebook\n",
    "print(\"Hello\")"
   ]
  },
  {
   "cell_type": "markdown",
   "id": "4fee38ba",
   "metadata": {},
   "source": [
    "Try changing the word `Hello` to something else, click your mouse on the cell, and type over or add to the word and run it again, pretty simple but pretty fun too.  \n",
    "\n",
    "Did you rememember to use the `shift` and `return` keys at the same time?  If you just pressed the `return` key, everything moves down a line, that is why a code cell needs a `shift` and `return`, in codeing when two keys are to be pressed at the same time they are written with a `+` sign, so `shift` + `return`\n",
    "\n",
    "Don't worry, you will get use to it.\n",
    "\n",
    "If you did just press `return`, go back and fix it, use the mouse or arrow keys and press the `backspace` or `delete` key where you added the line.\n",
    "\n",
    "Yes, you can also use the arrow keys to move between cells.\n",
    "\n",
    "The line that starts with the # (# is a symbol, called a hash or a pound sign in programming) is a comment.  A comment is a way to add some information to your program that will be ignored when the program is run.\n",
    "\n",
    "Try removing the # and run the cell again, it should print out a big scary error message!\n",
    "\n",
    "OK, maybe not that scary.  Error messages are how you know something is not working.\n",
    "\n",
    "*NOTE:* Some error messages are more informative that others."
   ]
  },
  {
   "cell_type": "markdown",
   "id": "3c0c497d",
   "metadata": {},
   "source": [
    "You may have noticed, if you double click in a text cell, you will see some hidden symbols.  If you haven't try it in this *cell*\n",
    "\n",
    "The hidden stuff is called `Markdown`, it can be text or\n",
    "* an unordered list\n",
    "1. or an ordered list\n",
    "1. A **bold** item in the list\n",
    "\n",
    "### it is a fast way to format text!\n",
    "\n",
    "To get the [Markdown](https://www.markdownguide.org/basic-syntax/) cell to go back to how it was, use the same trick as running a code cell, remember `shift` + `return` at the same time!"
   ]
  },
  {
   "cell_type": "code",
   "execution_count": null,
   "id": "e53310d6",
   "metadata": {},
   "outputs": [],
   "source": []
  }
 ],
 "metadata": {
  "kernelspec": {
   "display_name": "Python 3 (ipykernel)",
   "language": "python",
   "name": "python3"
  },
  "language_info": {
   "codemirror_mode": {
    "name": "ipython",
    "version": 3
   },
   "file_extension": ".py",
   "mimetype": "text/x-python",
   "name": "python",
   "nbconvert_exporter": "python",
   "pygments_lexer": "ipython3",
   "version": "3.10.2"
  }
 },
 "nbformat": 4,
 "nbformat_minor": 5
}
